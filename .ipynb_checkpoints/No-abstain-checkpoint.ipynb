{
 "cells": [
  {
   "cell_type": "code",
   "execution_count": 1,
   "id": "d504d8db",
   "metadata": {},
   "outputs": [
    {
     "name": "stdout",
     "output_type": "stream",
     "text": [
      "Populating the interactive namespace from numpy and matplotlib\n"
     ]
    }
   ],
   "source": [
    "%pylab inline\n",
    "\n",
    "from lib.KDTreeEncoding import *\n",
    "\n",
    "import xgboost as xgb\n",
    "from lib.XGBHelper import *\n",
    "from lib.XGBoost_params import *\n",
    "from lib.score_analysis import *\n",
    "\n",
    "from lib.logger import logger\n",
    "\n",
    "from sklearn.model_selection import train_test_split\n",
    "import matplotlib.pyplot as plt\n",
    "import numpy as np\n",
    "from numpy import load\n",
    "from glob import glob\n",
    "import pandas as pd\n",
    "import pickle as pkl"
   ]
  },
  {
   "cell_type": "markdown",
   "id": "0cc494f9",
   "metadata": {},
   "source": [
    "###  load image filenames"
   ]
  },
  {
   "cell_type": "code",
   "execution_count": 2,
   "id": "b4d5d368",
   "metadata": {},
   "outputs": [],
   "source": [
    "poverty_dir='/Users/yoavfreund/datasets/poverty_v1.1/'\n",
    "#use the following line when running on datahub\n",
    "poverty_dir = '/datasets/cs255-sp22-a00-public/poverty/'\n",
    "depth=8   #for KDTree"
   ]
  },
  {
   "cell_type": "code",
   "execution_count": 3,
   "id": "c7634587",
   "metadata": {},
   "outputs": [
    {
     "data": {
      "text/plain": [
       "19669"
      ]
     },
     "execution_count": 3,
     "metadata": {},
     "output_type": "execute_result"
    }
   ],
   "source": [
    "## load file list\n",
    "image_dir=poverty_dir+'/anon_images'\n",
    "files=[]\n",
    "files+=glob(f'{image_dir}/*.npz')\n",
    "len(files)"
   ]
  },
  {
   "cell_type": "code",
   "execution_count": 4,
   "id": "35d05d0f",
   "metadata": {},
   "outputs": [
    {
     "name": "stdout",
     "output_type": "stream",
     "text": [
      "country_test_reduct.csv  random_test_reduct.csv  train.csv\r\n"
     ]
    }
   ],
   "source": [
    "!ls ../public_tables/"
   ]
  },
  {
   "cell_type": "code",
   "execution_count": 5,
   "id": "7e2c5355",
   "metadata": {},
   "outputs": [
    {
     "name": "stdout",
     "output_type": "stream",
     "text": [
      "-rw-r--r-- 1 andas root 786422 May 29 12:35 ../public_tables/train.csv\r\n"
     ]
    },
    {
     "data": {
      "text/plain": [
       "(11365, 6)"
      ]
     },
     "execution_count": 5,
     "metadata": {},
     "output_type": "execute_result"
    }
   ],
   "source": [
    "#load table entries\n",
    "train_table='../public_tables/train.csv'\n",
    "!ls -l $train_table\n",
    "\n",
    "df=pd.read_csv(train_table,index_col=0)\n",
    "df.index=df['filename']\n",
    "df.shape"
   ]
  },
  {
   "cell_type": "code",
   "execution_count": 6,
   "id": "fd8d7958",
   "metadata": {},
   "outputs": [
    {
     "data": {
      "text/plain": [
       "[(5, 676),\n",
       " (6, 641),\n",
       " (7, 329),\n",
       " (8, 586),\n",
       " (9, 1381),\n",
       " (10, 374),\n",
       " (11, 575),\n",
       " (12, 428),\n",
       " (13, 1068),\n",
       " (14, 581),\n",
       " (15, 756),\n",
       " (16, 248),\n",
       " (17, 246),\n",
       " (18, 581),\n",
       " (19, 424),\n",
       " (20, 456),\n",
       " (21, 543),\n",
       " (22, 1472)]"
      ]
     },
     "execution_count": 6,
     "metadata": {},
     "output_type": "execute_result"
    }
   ],
   "source": [
    "#List the number of rows for each country, countries 0-4 are missing - the are in the country_test set\n",
    "from collections import Counter\n",
    "C=Counter(df['country'])\n",
    "[(k,C[k]) for k in sorted(C)]"
   ]
  },
  {
   "cell_type": "markdown",
   "id": "3a86223a",
   "metadata": {},
   "source": [
    "## train color encoder\n",
    "\n",
    "Creates a KDtree in color space"
   ]
  },
  {
   "cell_type": "code",
   "execution_count": 7,
   "id": "5f3a36be",
   "metadata": {},
   "outputs": [
    {
     "name": "stdout",
     "output_type": "stream",
     "text": [
      "used 500 images to train KDTree\n",
      "KDTree training data shape= (25088000, 8)\n",
      "CPU times: user 15.2 s, sys: 2.63 s, total: 17.8 s\n",
      "Wall time: 19.1 s\n"
     ]
    }
   ],
   "source": [
    "%%time\n",
    "## Generate encoding tree\n",
    "train_size,tree=train_encoder(files,max_images=500,tree_depth=8)"
   ]
  },
  {
   "cell_type": "code",
   "execution_count": null,
   "id": "871de45a",
   "metadata": {
    "scrolled": true
   },
   "outputs": [
    {
     "name": "stdout",
     "output_type": "stream",
     "text": [
      "2409 image12972.npz\r"
     ]
    }
   ],
   "source": [
    "%%time\n",
    "## Encode all data using encoding tree\n",
    "Enc_data=encoded_dataset(image_dir,df,tree,label_col='label')"
   ]
  },
  {
   "cell_type": "code",
   "execution_count": null,
   "id": "648445ac",
   "metadata": {},
   "outputs": [],
   "source": [
    "Enc_data.data.shape"
   ]
  },
  {
   "cell_type": "code",
   "execution_count": null,
   "id": "fa6ea8a5",
   "metadata": {},
   "outputs": [],
   "source": [
    "\n",
    "D=DataSplitter(Enc_data.data)"
   ]
  },
  {
   "cell_type": "markdown",
   "id": "b4e739e2",
   "metadata": {},
   "source": [
    "### Train and test"
   ]
  },
  {
   "cell_type": "code",
   "execution_count": null,
   "id": "c5100437",
   "metadata": {},
   "outputs": [],
   "source": [
    "# set parameters for XGBoost\n",
    "param['max_depth']=2\n",
    "param['num_round']=10\n",
    "param"
   ]
  },
  {
   "cell_type": "markdown",
   "id": "c90be82d",
   "metadata": {},
   "source": [
    "### Train on random split, urban and rural together"
   ]
  },
  {
   "cell_type": "code",
   "execution_count": null,
   "id": "3b1fbe3b",
   "metadata": {},
   "outputs": [],
   "source": [
    "%%time\n",
    "train_selector=np.random.rand(df.shape[0]) > 0.7\n",
    "Train=D.get_subset(train_selector)\n",
    "Test=D.get_subset(~train_selector)\n",
    "\n",
    "param['num_round']=10\n",
    "log10=simple_bootstrap(Train,Test,param,ensemble_size=30)\n",
    "param['num_round']=100\n",
    "log100=simple_bootstrap(Train,Test,param,ensemble_size=30)\n",
    "\n",
    "styled_logs=[\n",
    "    {   'log':log10,\n",
    "        'style':['k:','k-'],\n",
    "        'label':'10 iterations',\n",
    "        'label_color':'k'\n",
    "    },\n",
    "    {   'log':log100,\n",
    "        'style':['r:','r-'],\n",
    "        'label':'100 iterations',\n",
    "        'label_color':'r'\n",
    "    }\n",
    "]\n",
    "_mean,_std=plot_scores(styled_logs,title='All')\n",
    "\n",
    "pickle_file=f'data/DumpNoSplit.pk'\n",
    "Dump={'styled_logs':styled_logs,\n",
    "     'tree':tree,\n",
    "     'mean':_mean,\n",
    "     'std':_std}\n",
    "pkl.dump(Dump,open(pickle_file,'wb'))\n",
    "!ls -l $pickle_file"
   ]
  },
  {
   "cell_type": "markdown",
   "id": "20060bca",
   "metadata": {},
   "source": [
    "## Train on Urban only\n",
    "Random split into train and test."
   ]
  },
  {
   "cell_type": "code",
   "execution_count": null,
   "id": "5b5712d6",
   "metadata": {},
   "outputs": [],
   "source": [
    "%%time\n",
    "urban=True\n",
    "area= 'Urban' if urban else 'Rural'\n",
    "selector=df['urban']==urban\n",
    "subData=D.get_subset(selector)\n",
    "subD=DataSplitter(subData)\n",
    "\n",
    "train_selector=np.random.rand(subData.shape[0]) > 0.7\n",
    "Train=subD.get_subset(train_selector)\n",
    "Test=subD.get_subset(~train_selector)\n",
    "\n",
    "param['num_round']=10\n",
    "log10=simple_bootstrap(Train,Test,param,ensemble_size=30)\n",
    "param['num_round']=100\n",
    "log100=simple_bootstrap(Train,Test,param,ensemble_size=30)\n",
    "\n",
    "styled_logs=[\n",
    "    {   'log':log10,\n",
    "        'style':['g:','g-'],\n",
    "        'label':'10 iterations',\n",
    "        'label_color':'g'\n",
    "    },\n",
    "    {   'log':log100,\n",
    "        'style':['b:','b-'],\n",
    "        'label':'100 iterations',\n",
    "        'label_color':'b'\n",
    "    }\n",
    "]\n",
    "\n",
    "_mean,_std=plot_scores(styled_logs,title=f'{area}Only: Split into train and test at random')\n",
    "\n",
    "pickle_file=f'data/Dump{area}.pk'\n",
    "Dump={'styled_logs':styled_logs,\n",
    "     'tree':tree,\n",
    "     'mean':_mean,\n",
    "     'std':_std}\n",
    "pkl.dump(Dump,open(pickle_file,'wb'))\n",
    "!ls -l $pickle_file"
   ]
  },
  {
   "cell_type": "markdown",
   "id": "251fbc2c",
   "metadata": {},
   "source": [
    "## Train on Rural only\n",
    "Random split into train and test."
   ]
  },
  {
   "cell_type": "code",
   "execution_count": null,
   "id": "82a01d30",
   "metadata": {},
   "outputs": [],
   "source": [
    "urban=False\n",
    "area= 'Urban' if urban else 'Rural'\n",
    "selector=df['urban']==urban\n",
    "subData=D.get_subset(selector)\n",
    "subD=DataSplitter(subData)\n",
    "\n",
    "train_selector=np.random.rand(subData.shape[0]) > 0.7\n",
    "Train=subD.get_subset(train_selector)\n",
    "Test=subD.get_subset(~train_selector)\n",
    "\n",
    "param['num_round']=10\n",
    "log10=simple_bootstrap(Train,Test,param,ensemble_size=30)\n",
    "param['num_round']=100\n",
    "log100=simple_bootstrap(Train,Test,param,ensemble_size=30)\n",
    "\n",
    "styled_logs=[\n",
    "    {   'log':log10,\n",
    "        'style':['y:','y-'],\n",
    "        'label':'10 iterations',\n",
    "        'label_color':'y'\n",
    "    },\n",
    "    {   'log':log100,\n",
    "        'style':['m:','m-'],\n",
    "        'label':'100 iterations',\n",
    "        'label_color':'m'\n",
    "    }\n",
    "]\n",
    "\n",
    "_mean,_std=plot_scores(styled_logs,title=f'{area}Only: Split into train and test at random')\n",
    "\n",
    "pickle_file=f'data/Dump{area}.pk'\n",
    "Dump={'styled_logs':styled_logs,\n",
    "     'tree':tree,\n",
    "     'mean':_mean,\n",
    "     'std':_std}\n",
    "pkl.dump(Dump,open(pickle_file,'wb'))\n",
    "!ls -l $pickle_file"
   ]
  },
  {
   "cell_type": "code",
   "execution_count": null,
   "id": "81de3795",
   "metadata": {},
   "outputs": [],
   "source": []
  }
 ],
 "metadata": {
  "kernelspec": {
   "display_name": "Python 3",
   "language": "python",
   "name": "python3"
  },
  "language_info": {
   "codemirror_mode": {
    "name": "ipython",
    "version": 3
   },
   "file_extension": ".py",
   "mimetype": "text/x-python",
   "name": "python",
   "nbconvert_exporter": "python",
   "pygments_lexer": "ipython3",
   "version": "3.6.13"
  },
  "toc": {
   "base_numbering": 1,
   "nav_menu": {},
   "number_sections": true,
   "sideBar": true,
   "skip_h1_title": false,
   "title_cell": "Table of Contents",
   "title_sidebar": "Contents",
   "toc_cell": false,
   "toc_position": {},
   "toc_section_display": true,
   "toc_window_display": false
  }
 },
 "nbformat": 4,
 "nbformat_minor": 5
}
